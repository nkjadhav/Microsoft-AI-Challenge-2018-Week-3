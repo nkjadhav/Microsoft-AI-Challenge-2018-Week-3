{
 "cells": [
  {
   "cell_type": "code",
   "execution_count": 1,
   "metadata": {},
   "outputs": [],
   "source": [
    "import cv2"
   ]
  },
  {
   "cell_type": "code",
   "execution_count": 2,
   "metadata": {},
   "outputs": [
    {
     "name": "stdout",
     "output_type": "stream",
     "text": [
      "4.0.0-alpha\n"
     ]
    }
   ],
   "source": [
    "print cv2.__version__"
   ]
  },
  {
   "cell_type": "code",
   "execution_count": 1,
   "metadata": {},
   "outputs": [
    {
     "data": {
      "text/plain": [
       "13"
      ]
     },
     "execution_count": 1,
     "metadata": {},
     "output_type": "execute_result"
    }
   ],
   "source": [
    "# import the necessary packages\n",
    "import numpy as np\n",
    "import argparse\n",
    "import imutils\n",
    "import cv2\n",
    "\n",
    "# Read Images\n",
    "puzzle = cv2.imread(\"1.jpg\")\n",
    "waldo = cv2.imread(\"waldo_1.jpg\")\n",
    "(waldoHeight, waldoWidth) = waldo.shape[:2]\n",
    "\n",
    "# find the waldo in the puzzle\n",
    "result = cv2.matchTemplate(puzzle, waldo, cv2.TM_CCOEFF)\n",
    "(_, _, minLoc, maxLoc) = cv2.minMaxLoc(result)\n",
    "\n",
    "# grab the bounding box of waldo and extract him from\n",
    "# the puzzle image\n",
    "topLeft = maxLoc\n",
    "botRight = (topLeft[0] + waldoWidth, topLeft[1] + waldoHeight)\n",
    "roi = puzzle[topLeft[1]:botRight[1], topLeft[0]:botRight[0]]\n",
    "\n",
    "# construct a darkened transparent 'layer' to darken everything\n",
    "# in the puzzle except for waldo\n",
    "mask = np.zeros(puzzle.shape, dtype = \"uint8\")\n",
    "puzzle = cv2.addWeighted(puzzle, 0.25, mask, 0.75, 0)\n",
    "\n",
    "# put the original waldo back in the image so that he is\n",
    "# 'brighter' than the rest of the image\n",
    "puzzle[topLeft[1]:botRight[1], topLeft[0]:botRight[0]] = roi\n",
    "\n",
    "# display the images\n",
    "cv2.imshow(\"Puzzle\", imutils.resize(puzzle, height = 650))\n",
    "cv2.imshow(\"Waldo\", waldo)\n",
    "cv2.waitKey(0)"
   ]
  }
 ],
 "metadata": {
  "kernelspec": {
   "display_name": "Python 2",
   "language": "python",
   "name": "python2"
  },
  "language_info": {
   "codemirror_mode": {
    "name": "ipython",
    "version": 2
   },
   "file_extension": ".py",
   "mimetype": "text/x-python",
   "name": "python",
   "nbconvert_exporter": "python",
   "pygments_lexer": "ipython2",
   "version": "2.7.15"
  },
  "toc": {
   "base_numbering": 1,
   "nav_menu": {},
   "number_sections": true,
   "sideBar": true,
   "skip_h1_title": false,
   "title_cell": "Table of Contents",
   "title_sidebar": "Contents",
   "toc_cell": true,
   "toc_position": {},
   "toc_section_display": true,
   "toc_window_display": false
  },
  "varInspector": {
   "cols": {
    "lenName": 16,
    "lenType": 16,
    "lenVar": 40
   },
   "kernels_config": {
    "python": {
     "delete_cmd_postfix": "",
     "delete_cmd_prefix": "del ",
     "library": "var_list.py",
     "varRefreshCmd": "print(var_dic_list())"
    },
    "r": {
     "delete_cmd_postfix": ") ",
     "delete_cmd_prefix": "rm(",
     "library": "var_list.r",
     "varRefreshCmd": "cat(var_dic_list()) "
    }
   },
   "position": {
    "height": "319px",
    "left": "996px",
    "right": "20px",
    "top": "120px",
    "width": "350px"
   },
   "types_to_exclude": [
    "module",
    "function",
    "builtin_function_or_method",
    "instance",
    "_Feature"
   ],
   "window_display": false
  }
 },
 "nbformat": 4,
 "nbformat_minor": 2
}
